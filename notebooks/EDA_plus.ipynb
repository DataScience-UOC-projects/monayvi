{
 "cells": [
  {
   "cell_type": "markdown",
   "metadata": {},
   "source": [
    "## EDA Extensivo"
   ]
  },
  {
   "cell_type": "code",
   "execution_count": 1,
   "metadata": {},
   "outputs": [],
   "source": [
    "import sys, os\n",
    "sys.path.append(os.getcwd().replace('/notebooks',''))  # Replace with current directory name"
   ]
  },
  {
   "cell_type": "code",
   "execution_count": 2,
   "metadata": {},
   "outputs": [],
   "source": [
    "from utils.data import Datasets\n",
    "from utils.eda import column_explore"
   ]
  },
  {
   "cell_type": "code",
   "execution_count": 3,
   "metadata": {},
   "outputs": [],
   "source": [
    "ds = Datasets()"
   ]
  },
  {
   "cell_type": "code",
   "execution_count": 4,
   "metadata": {},
   "outputs": [
    {
     "data": {
      "text/html": [
       "<div>\n",
       "<style scoped>\n",
       "    .dataframe tbody tr th:only-of-type {\n",
       "        vertical-align: middle;\n",
       "    }\n",
       "\n",
       "    .dataframe tbody tr th {\n",
       "        vertical-align: top;\n",
       "    }\n",
       "\n",
       "    .dataframe thead th {\n",
       "        text-align: right;\n",
       "    }\n",
       "</style>\n",
       "<table border=\"1\" class=\"dataframe\">\n",
       "  <thead>\n",
       "    <tr style=\"text-align: right;\">\n",
       "      <th></th>\n",
       "      <th>cash_request_id</th>\n",
       "      <th>amount</th>\n",
       "      <th>status</th>\n",
       "      <th>created_at</th>\n",
       "      <th>updated_at</th>\n",
       "      <th>user_id</th>\n",
       "      <th>moderated_at</th>\n",
       "      <th>deleted_account_id</th>\n",
       "      <th>reimbursement_date</th>\n",
       "      <th>cash_request_received_date</th>\n",
       "      <th>money_back_date</th>\n",
       "      <th>transfer_type</th>\n",
       "      <th>send_at</th>\n",
       "      <th>recovery_status</th>\n",
       "      <th>reco_creation</th>\n",
       "      <th>reco_last_update</th>\n",
       "      <th>id_usuario</th>\n",
       "    </tr>\n",
       "  </thead>\n",
       "  <tbody>\n",
       "    <tr>\n",
       "      <th>13</th>\n",
       "      <td>2122</td>\n",
       "      <td>100.0</td>\n",
       "      <td>money_back</td>\n",
       "      <td>2020-05-22 12:47:42.741369+00:00</td>\n",
       "      <td>2020-06-13 06:36:34.188372+00:00</td>\n",
       "      <td>8218.0</td>\n",
       "      <td>2020-05-23 14:29:15.376466+00:00</td>\n",
       "      <td>NaN</td>\n",
       "      <td>2020-06-15 22:00:00+00:00</td>\n",
       "      <td>2020-05-27</td>\n",
       "      <td>2020-06-13 06:36:34.188042+00:00</td>\n",
       "      <td>regular</td>\n",
       "      <td>NaT</td>\n",
       "      <td>NaN</td>\n",
       "      <td>NaT</td>\n",
       "      <td>NaT</td>\n",
       "      <td>8218</td>\n",
       "    </tr>\n",
       "  </tbody>\n",
       "</table>\n",
       "</div>"
      ],
      "text/plain": [
       "    cash_request_id  amount      status                       created_at  \\\n",
       "13             2122   100.0  money_back 2020-05-22 12:47:42.741369+00:00   \n",
       "\n",
       "                         updated_at  user_id                     moderated_at  \\\n",
       "13 2020-06-13 06:36:34.188372+00:00   8218.0 2020-05-23 14:29:15.376466+00:00   \n",
       "\n",
       "    deleted_account_id        reimbursement_date cash_request_received_date  \\\n",
       "13                 NaN 2020-06-15 22:00:00+00:00                 2020-05-27   \n",
       "\n",
       "                    money_back_date transfer_type send_at recovery_status  \\\n",
       "13 2020-06-13 06:36:34.188042+00:00       regular     NaT             NaN   \n",
       "\n",
       "   reco_creation reco_last_update  id_usuario  \n",
       "13           NaT              NaT        8218  "
      ]
     },
     "execution_count": 4,
     "metadata": {},
     "output_type": "execute_result"
    }
   ],
   "source": [
    "ds.cash[ds.cash['cash_request_id']==2122]"
   ]
  },
  {
   "cell_type": "code",
   "execution_count": 5,
   "metadata": {},
   "outputs": [
    {
     "data": {
      "text/html": [
       "<div>\n",
       "<style scoped>\n",
       "    .dataframe tbody tr th:only-of-type {\n",
       "        vertical-align: middle;\n",
       "    }\n",
       "\n",
       "    .dataframe tbody tr th {\n",
       "        vertical-align: top;\n",
       "    }\n",
       "\n",
       "    .dataframe thead th {\n",
       "        text-align: right;\n",
       "    }\n",
       "</style>\n",
       "<table border=\"1\" class=\"dataframe\">\n",
       "  <thead>\n",
       "    <tr style=\"text-align: right;\">\n",
       "      <th></th>\n",
       "      <th>cash_request_id</th>\n",
       "      <th>amount</th>\n",
       "      <th>status</th>\n",
       "      <th>created_at</th>\n",
       "      <th>updated_at</th>\n",
       "      <th>user_id</th>\n",
       "      <th>moderated_at</th>\n",
       "      <th>deleted_account_id</th>\n",
       "      <th>reimbursement_date</th>\n",
       "      <th>cash_request_received_date</th>\n",
       "      <th>money_back_date</th>\n",
       "      <th>transfer_type</th>\n",
       "      <th>send_at</th>\n",
       "      <th>recovery_status</th>\n",
       "      <th>reco_creation</th>\n",
       "      <th>reco_last_update</th>\n",
       "      <th>id_usuario</th>\n",
       "    </tr>\n",
       "  </thead>\n",
       "  <tbody>\n",
       "    <tr>\n",
       "      <th>8815</th>\n",
       "      <td>23004</td>\n",
       "      <td>100.0</td>\n",
       "      <td>transaction_declined</td>\n",
       "      <td>2020-10-22 09:49:41.938320+00:00</td>\n",
       "      <td>2020-10-22 09:54:57.157714+00:00</td>\n",
       "      <td>83479.0</td>\n",
       "      <td>NaT</td>\n",
       "      <td>NaN</td>\n",
       "      <td>2020-11-01 23:51:00+00:00</td>\n",
       "      <td>NaT</td>\n",
       "      <td>NaT</td>\n",
       "      <td>instant</td>\n",
       "      <td>2020-10-22 09:54:21.304205+00:00</td>\n",
       "      <td>NaN</td>\n",
       "      <td>NaT</td>\n",
       "      <td>NaT</td>\n",
       "      <td>83479</td>\n",
       "    </tr>\n",
       "  </tbody>\n",
       "</table>\n",
       "</div>"
      ],
      "text/plain": [
       "      cash_request_id  amount                status  \\\n",
       "8815            23004   100.0  transaction_declined   \n",
       "\n",
       "                           created_at                       updated_at  \\\n",
       "8815 2020-10-22 09:49:41.938320+00:00 2020-10-22 09:54:57.157714+00:00   \n",
       "\n",
       "      user_id moderated_at  deleted_account_id        reimbursement_date  \\\n",
       "8815  83479.0          NaT                 NaN 2020-11-01 23:51:00+00:00   \n",
       "\n",
       "     cash_request_received_date money_back_date transfer_type  \\\n",
       "8815                        NaT             NaT       instant   \n",
       "\n",
       "                              send_at recovery_status reco_creation  \\\n",
       "8815 2020-10-22 09:54:21.304205+00:00             NaN           NaT   \n",
       "\n",
       "     reco_last_update  id_usuario  \n",
       "8815              NaT       83479  "
      ]
     },
     "execution_count": 5,
     "metadata": {},
     "output_type": "execute_result"
    }
   ],
   "source": [
    "ds.cash[ds.cash['cash_request_id']==23004]"
   ]
  },
  {
   "cell_type": "code",
   "execution_count": 6,
   "metadata": {},
   "outputs": [
    {
     "data": {
      "text/html": [
       "<div>\n",
       "<style scoped>\n",
       "    .dataframe tbody tr th:only-of-type {\n",
       "        vertical-align: middle;\n",
       "    }\n",
       "\n",
       "    .dataframe tbody tr th {\n",
       "        vertical-align: top;\n",
       "    }\n",
       "\n",
       "    .dataframe thead th {\n",
       "        text-align: right;\n",
       "    }\n",
       "</style>\n",
       "<table border=\"1\" class=\"dataframe\">\n",
       "  <thead>\n",
       "    <tr style=\"text-align: right;\">\n",
       "      <th></th>\n",
       "      <th>id</th>\n",
       "      <th>cash_request_id</th>\n",
       "      <th>type</th>\n",
       "      <th>status</th>\n",
       "      <th>category</th>\n",
       "      <th>total_amount</th>\n",
       "      <th>reason</th>\n",
       "      <th>created_at</th>\n",
       "      <th>updated_at</th>\n",
       "      <th>paid_at</th>\n",
       "      <th>from_date</th>\n",
       "      <th>to_date</th>\n",
       "      <th>charge_moment</th>\n",
       "    </tr>\n",
       "  </thead>\n",
       "  <tbody>\n",
       "    <tr>\n",
       "      <th>1615</th>\n",
       "      <td>14481</td>\n",
       "      <td>21897</td>\n",
       "      <td>instant_payment</td>\n",
       "      <td>accepted</td>\n",
       "      <td>NaN</td>\n",
       "      <td>5.0</td>\n",
       "      <td>Instant Payment Cash Request 21897</td>\n",
       "      <td>2020-10-18 08:22:10.900090+00:00</td>\n",
       "      <td>2020-10-18 08:22:10.900113+00:00</td>\n",
       "      <td>2020-11-30 19:49:32.588919+00:00</td>\n",
       "      <td>NaT</td>\n",
       "      <td>NaT</td>\n",
       "      <td>after</td>\n",
       "    </tr>\n",
       "    <tr>\n",
       "      <th>11</th>\n",
       "      <td>15434</td>\n",
       "      <td>21897</td>\n",
       "      <td>postpone</td>\n",
       "      <td>accepted</td>\n",
       "      <td>NaN</td>\n",
       "      <td>5.0</td>\n",
       "      <td>Postpone Cash Request 21897</td>\n",
       "      <td>2020-10-21 09:00:21.619473+00:00</td>\n",
       "      <td>2020-10-21 09:00:21.619504+00:00</td>\n",
       "      <td>2020-10-21 09:00:25.398771+00:00</td>\n",
       "      <td>2020-10-26 22:00:00+00:00</td>\n",
       "      <td>2020-10-30 23:00:00+00:00</td>\n",
       "      <td>before</td>\n",
       "    </tr>\n",
       "    <tr>\n",
       "      <th>8008</th>\n",
       "      <td>19693</td>\n",
       "      <td>21897</td>\n",
       "      <td>postpone</td>\n",
       "      <td>accepted</td>\n",
       "      <td>NaN</td>\n",
       "      <td>5.0</td>\n",
       "      <td>Postpone Cash Request 21897</td>\n",
       "      <td>2020-10-29 11:38:58.852097+00:00</td>\n",
       "      <td>2020-10-29 11:38:58.852166+00:00</td>\n",
       "      <td>2020-10-29 11:39:02.482594+00:00</td>\n",
       "      <td>2020-10-30 23:00:00+00:00</td>\n",
       "      <td>2020-11-29 23:00:00+00:00</td>\n",
       "      <td>before</td>\n",
       "    </tr>\n",
       "  </tbody>\n",
       "</table>\n",
       "</div>"
      ],
      "text/plain": [
       "         id  cash_request_id             type    status category  \\\n",
       "1615  14481            21897  instant_payment  accepted      NaN   \n",
       "11    15434            21897         postpone  accepted      NaN   \n",
       "8008  19693            21897         postpone  accepted      NaN   \n",
       "\n",
       "      total_amount                              reason  \\\n",
       "1615           5.0  Instant Payment Cash Request 21897   \n",
       "11             5.0         Postpone Cash Request 21897   \n",
       "8008           5.0         Postpone Cash Request 21897   \n",
       "\n",
       "                           created_at                       updated_at  \\\n",
       "1615 2020-10-18 08:22:10.900090+00:00 2020-10-18 08:22:10.900113+00:00   \n",
       "11   2020-10-21 09:00:21.619473+00:00 2020-10-21 09:00:21.619504+00:00   \n",
       "8008 2020-10-29 11:38:58.852097+00:00 2020-10-29 11:38:58.852166+00:00   \n",
       "\n",
       "                              paid_at                 from_date  \\\n",
       "1615 2020-11-30 19:49:32.588919+00:00                       NaT   \n",
       "11   2020-10-21 09:00:25.398771+00:00 2020-10-26 22:00:00+00:00   \n",
       "8008 2020-10-29 11:39:02.482594+00:00 2020-10-30 23:00:00+00:00   \n",
       "\n",
       "                       to_date charge_moment  \n",
       "1615                       NaT         after  \n",
       "11   2020-10-30 23:00:00+00:00        before  \n",
       "8008 2020-11-29 23:00:00+00:00        before  "
      ]
     },
     "execution_count": 6,
     "metadata": {},
     "output_type": "execute_result"
    }
   ],
   "source": [
    "ds.cash[ds.cash['cash_request_id']==21897]\n",
    "ds.fees[ds.fees['cash_request_id']==21897].sort_values(by='created_at')"
   ]
  },
  {
   "cell_type": "code",
   "execution_count": 7,
   "metadata": {},
   "outputs": [
    {
     "name": "stdout",
     "output_type": "stream",
     "text": [
      "- - - - - Begin EDA of feature 'amount' - - - - - - - - - - - - - - - - - - \n",
      "TOTAL NUMBER OF ROWS:  23970\n",
      "NUMBER OF UNIQUE VALUES: 41\n",
      "NUMBER OF UNIQUE VALUES DIVIDED BY TOTAL VALUES: 0.17%\n",
      "PERCENTAGE OF NAN VALUES IS: 0.0%\n",
      "COLUMN DATA TYPE:  float64\n",
      "COLUMN UNIQUE VALUES: \n",
      " [100.  99.  90.   1.  70.  25.  50.  20.  60.  80.  30.  10.  40. 150.\n",
      "  98. 200.  85.  65.  95.  31.  75.  72.  22.  67.  94.  45.  55.  35.\n",
      "  97.  28.  86.   8.  15.  39.   2.  11.  49.   5.  36.  54.  24.]\n",
      "VARIABLE WEIGHT WITHIN THE TOTAL OF THE COLUMN: \n",
      " amount\n",
      "100.0    67.14\n",
      "50.0     22.13\n",
      "25.0      5.32\n",
      "80.0      1.11\n",
      "60.0      0.79\n",
      "70.0      0.63\n",
      "20.0      0.55\n",
      "30.0      0.48\n",
      "40.0      0.42\n",
      "90.0      0.38\n",
      "10.0      0.24\n",
      "200.0     0.10\n",
      "95.0      0.09\n",
      "1.0       0.08\n",
      "75.0      0.08\n",
      "45.0      0.06\n",
      "55.0      0.06\n",
      "65.0      0.05\n",
      "99.0      0.05\n",
      "15.0      0.04\n",
      "85.0      0.04\n",
      "35.0      0.04\n",
      "5.0       0.03\n",
      "2.0       0.01\n",
      "98.0      0.01\n",
      "28.0      0.01\n",
      "22.0      0.01\n",
      "11.0      0.01\n",
      "49.0      0.00\n",
      "36.0      0.00\n",
      "54.0      0.00\n",
      "39.0      0.00\n",
      "97.0      0.00\n",
      "8.0       0.00\n",
      "86.0      0.00\n",
      "94.0      0.00\n",
      "67.0      0.00\n",
      "72.0      0.00\n",
      "31.0      0.00\n",
      "150.0     0.00\n",
      "24.0      0.00\n",
      "Name: count, dtype: float64\n",
      "- - - - - End - - - - - - - - - - - - - - - - - - - - - - - - - - - - - - - - \n"
     ]
    }
   ],
   "source": [
    "column_explore(ds.cash['amount']) # CONCLUSIÓN: La mayoría de préstamos son de 100€, seguidos por los de 50€ y luego ya otros valores"
   ]
  },
  {
   "cell_type": "code",
   "execution_count": 8,
   "metadata": {},
   "outputs": [
    {
     "data": {
      "text/plain": [
       "status\n",
       "money_back               16397\n",
       "rejected                  6568\n",
       "direct_debit_rejected      831\n",
       "active                      59\n",
       "transaction_declined        48\n",
       "direct_debit_sent           34\n",
       "canceled                    33\n",
       "Name: count, dtype: int64"
      ]
     },
     "execution_count": 8,
     "metadata": {},
     "output_type": "execute_result"
    }
   ],
   "source": [
    "ds.cash.status.value_counts()"
   ]
  },
  {
   "cell_type": "code",
   "execution_count": 9,
   "metadata": {},
   "outputs": [
    {
     "data": {
      "text/plain": [
       "transfer_type\n",
       "instant    13882\n",
       "regular    10088\n",
       "Name: count, dtype: int64"
      ]
     },
     "execution_count": 9,
     "metadata": {},
     "output_type": "execute_result"
    }
   ],
   "source": [
    "ds.cash.transfer_type.value_counts()"
   ]
  },
  {
   "cell_type": "code",
   "execution_count": 10,
   "metadata": {},
   "outputs": [
    {
     "data": {
      "text/plain": [
       "recovery_status\n",
       "completed               2468\n",
       "pending                  845\n",
       "pending_direct_debit      16\n",
       "cancelled                  1\n",
       "Name: count, dtype: int64"
      ]
     },
     "execution_count": 10,
     "metadata": {},
     "output_type": "execute_result"
    }
   ],
   "source": [
    "ds.cash.recovery_status.value_counts()"
   ]
  },
  {
   "cell_type": "code",
   "execution_count": 11,
   "metadata": {},
   "outputs": [
    {
     "name": "stdout",
     "output_type": "stream",
     "text": [
      "- - - - - Begin EDA of feature 'money_back_date' - - - - - - - - - - - - - - - - - - \n",
      "TOTAL NUMBER OF ROWS:  23970\n",
      "NUMBER OF UNIQUE VALUES: 12221\n",
      "NUMBER OF UNIQUE VALUES DIVIDED BY TOTAL VALUES: 50.98%\n",
      "PERCENTAGE OF NAN VALUES IS: 30.98%\n",
      "COLUMN DATA TYPE:  datetime64[ns, UTC]\n",
      "COLUMN UNIQUE VALUES: \n",
      " <DatetimeArray>\n",
      "[                             'NaT', '2020-07-06 03:36:03.023521+00:00',\n",
      " '2020-06-03 05:11:35.312616+00:00', '2020-06-13 06:36:34.188042+00:00',\n",
      " '2020-06-10 08:20:10.398977+00:00', '2020-11-06 07:16:21.845479+00:00',\n",
      " '2020-04-14 20:25:28.747087+00:00', '2020-03-31 20:00:52.443628+00:00',\n",
      " '2020-09-18 07:45:25.740402+00:00', '2020-06-27 03:28:09.137532+00:00',\n",
      " ...\n",
      " '2021-02-05 21:25:44.230776+00:00', '2021-02-05 20:28:11.583499+00:00',\n",
      " '2021-02-06 20:16:09.463799+00:00', '2021-02-05 20:48:23.237207+00:00',\n",
      " '2021-02-05 12:04:06.144421+00:00', '2021-02-05 12:11:58.131036+00:00',\n",
      " '2021-02-06 20:17:49.257521+00:00', '2020-12-01 13:26:53.787672+00:00',\n",
      " '2021-02-05 12:19:30.626289+00:00', '2021-02-05 13:14:19.689906+00:00']\n",
      "Length: 12222, dtype: datetime64[ns, UTC]\n",
      "VARIABLE WEIGHT WITHIN THE TOTAL OF THE COLUMN: \n",
      " money_back_date\n",
      "2020-08-04 22:00:00+00:00           2.20\n",
      "2020-08-05 22:00:00+00:00           1.78\n",
      "2020-07-29 22:00:00+00:00           1.47\n",
      "2020-07-07 22:00:00+00:00           1.09\n",
      "2020-09-01 22:00:00+00:00           0.81\n",
      "                                    ... \n",
      "2020-09-26 19:41:04.707858+00:00    0.01\n",
      "2020-09-03 18:59:16.868528+00:00    0.01\n",
      "2020-09-04 19:34:13.744825+00:00    0.01\n",
      "2020-06-30 08:44:45.520733+00:00    0.01\n",
      "2021-02-05 13:14:19.689906+00:00    0.01\n",
      "Name: count, Length: 12221, dtype: float64\n",
      "- - - - - End - - - - - - - - - - - - - - - - - - - - - - - - - - - - - - - - \n"
     ]
    }
   ],
   "source": [
    "column_explore(ds.cash['money_back_date'])"
   ]
  },
  {
   "cell_type": "code",
   "execution_count": 12,
   "metadata": {},
   "outputs": [
    {
     "data": {
      "text/html": [
       "<div>\n",
       "<style scoped>\n",
       "    .dataframe tbody tr th:only-of-type {\n",
       "        vertical-align: middle;\n",
       "    }\n",
       "\n",
       "    .dataframe tbody tr th {\n",
       "        vertical-align: top;\n",
       "    }\n",
       "\n",
       "    .dataframe thead th {\n",
       "        text-align: right;\n",
       "    }\n",
       "</style>\n",
       "<table border=\"1\" class=\"dataframe\">\n",
       "  <thead>\n",
       "    <tr style=\"text-align: right;\">\n",
       "      <th></th>\n",
       "      <th>amount</th>\n",
       "      <th>status</th>\n",
       "      <th>money_back_date</th>\n",
       "    </tr>\n",
       "  </thead>\n",
       "  <tbody>\n",
       "    <tr>\n",
       "      <th>286</th>\n",
       "      <td>100.0</td>\n",
       "      <td>direct_debit_rejected</td>\n",
       "      <td>2020-07-02 18:47:17.295625+00:00</td>\n",
       "    </tr>\n",
       "    <tr>\n",
       "      <th>753</th>\n",
       "      <td>100.0</td>\n",
       "      <td>direct_debit_rejected</td>\n",
       "      <td>2020-06-15 21:48:36.150666+00:00</td>\n",
       "    </tr>\n",
       "    <tr>\n",
       "      <th>935</th>\n",
       "      <td>100.0</td>\n",
       "      <td>direct_debit_rejected</td>\n",
       "      <td>2020-06-11 22:37:50.972072+00:00</td>\n",
       "    </tr>\n",
       "    <tr>\n",
       "      <th>1005</th>\n",
       "      <td>100.0</td>\n",
       "      <td>direct_debit_rejected</td>\n",
       "      <td>2020-06-04 09:49:52.217008+00:00</td>\n",
       "    </tr>\n",
       "    <tr>\n",
       "      <th>1070</th>\n",
       "      <td>100.0</td>\n",
       "      <td>direct_debit_rejected</td>\n",
       "      <td>2020-06-04 11:16:55.805646+00:00</td>\n",
       "    </tr>\n",
       "    <tr>\n",
       "      <th>...</th>\n",
       "      <td>...</td>\n",
       "      <td>...</td>\n",
       "      <td>...</td>\n",
       "    </tr>\n",
       "    <tr>\n",
       "      <th>23916</th>\n",
       "      <td>50.0</td>\n",
       "      <td>direct_debit_rejected</td>\n",
       "      <td>2020-12-09 23:00:00+00:00</td>\n",
       "    </tr>\n",
       "    <tr>\n",
       "      <th>23931</th>\n",
       "      <td>100.0</td>\n",
       "      <td>active</td>\n",
       "      <td>2020-11-23 23:00:00+00:00</td>\n",
       "    </tr>\n",
       "    <tr>\n",
       "      <th>23932</th>\n",
       "      <td>100.0</td>\n",
       "      <td>direct_debit_rejected</td>\n",
       "      <td>2021-02-02 23:00:00+00:00</td>\n",
       "    </tr>\n",
       "    <tr>\n",
       "      <th>23934</th>\n",
       "      <td>100.0</td>\n",
       "      <td>active</td>\n",
       "      <td>2020-07-07 15:51:37+00:00</td>\n",
       "    </tr>\n",
       "    <tr>\n",
       "      <th>23935</th>\n",
       "      <td>50.0</td>\n",
       "      <td>active</td>\n",
       "      <td>2020-07-29 22:00:00+00:00</td>\n",
       "    </tr>\n",
       "  </tbody>\n",
       "</table>\n",
       "<p>336 rows × 3 columns</p>\n",
       "</div>"
      ],
      "text/plain": [
       "       amount                 status                  money_back_date\n",
       "286     100.0  direct_debit_rejected 2020-07-02 18:47:17.295625+00:00\n",
       "753     100.0  direct_debit_rejected 2020-06-15 21:48:36.150666+00:00\n",
       "935     100.0  direct_debit_rejected 2020-06-11 22:37:50.972072+00:00\n",
       "1005    100.0  direct_debit_rejected 2020-06-04 09:49:52.217008+00:00\n",
       "1070    100.0  direct_debit_rejected 2020-06-04 11:16:55.805646+00:00\n",
       "...       ...                    ...                              ...\n",
       "23916    50.0  direct_debit_rejected        2020-12-09 23:00:00+00:00\n",
       "23931   100.0                 active        2020-11-23 23:00:00+00:00\n",
       "23932   100.0  direct_debit_rejected        2021-02-02 23:00:00+00:00\n",
       "23934   100.0                 active        2020-07-07 15:51:37+00:00\n",
       "23935    50.0                 active        2020-07-29 22:00:00+00:00\n",
       "\n",
       "[336 rows x 3 columns]"
      ]
     },
     "execution_count": 12,
     "metadata": {},
     "output_type": "execute_result"
    }
   ],
   "source": [
    "ds.cash[(ds.cash['money_back_date'].notnull()) & (ds.cash['status']!='money_back')].loc[:, ['amount','status','money_back_date']]"
   ]
  },
  {
   "cell_type": "code",
   "execution_count": 13,
   "metadata": {},
   "outputs": [],
   "source": [
    "# CONCLUSIÓN: Tal y como se describe en el Excel Lexique:\n",
    "# 'money_back_date': Date where the CR was considered as money back. It's either the paid_by_card date \n",
    "#   or the date were we considered that's the direc debit have low odds to be rejected (based on business rules) "
   ]
  },
  {
   "cell_type": "code",
   "execution_count": 14,
   "metadata": {},
   "outputs": [
    {
     "data": {
      "text/plain": [
       "(11037, 17)"
      ]
     },
     "execution_count": 14,
     "metadata": {},
     "output_type": "execute_result"
    }
   ],
   "source": [
    "ds.cash[~ds.cash['cash_request_id'].isin(ds.fees['cash_request_id'].values)].shape # 11037 entradas en tabla cash NO tienen su correspondiente en la tabla fees, basándonos en 'cash_request_id'"
   ]
  },
  {
   "cell_type": "code",
   "execution_count": 15,
   "metadata": {},
   "outputs": [
    {
     "data": {
      "text/html": [
       "<div>\n",
       "<style scoped>\n",
       "    .dataframe tbody tr th:only-of-type {\n",
       "        vertical-align: middle;\n",
       "    }\n",
       "\n",
       "    .dataframe tbody tr th {\n",
       "        vertical-align: top;\n",
       "    }\n",
       "\n",
       "    .dataframe thead th {\n",
       "        text-align: right;\n",
       "    }\n",
       "</style>\n",
       "<table border=\"1\" class=\"dataframe\">\n",
       "  <thead>\n",
       "    <tr style=\"text-align: right;\">\n",
       "      <th></th>\n",
       "      <th>cash_request_id</th>\n",
       "      <th>amount</th>\n",
       "      <th>status</th>\n",
       "      <th>created_at</th>\n",
       "      <th>updated_at</th>\n",
       "      <th>user_id</th>\n",
       "      <th>moderated_at</th>\n",
       "      <th>deleted_account_id</th>\n",
       "      <th>reimbursement_date</th>\n",
       "      <th>cash_request_received_date</th>\n",
       "      <th>money_back_date</th>\n",
       "      <th>transfer_type</th>\n",
       "      <th>send_at</th>\n",
       "      <th>recovery_status</th>\n",
       "      <th>reco_creation</th>\n",
       "      <th>reco_last_update</th>\n",
       "      <th>id_usuario</th>\n",
       "    </tr>\n",
       "  </thead>\n",
       "  <tbody>\n",
       "  </tbody>\n",
       "</table>\n",
       "</div>"
      ],
      "text/plain": [
       "Empty DataFrame\n",
       "Columns: [cash_request_id, amount, status, created_at, updated_at, user_id, moderated_at, deleted_account_id, reimbursement_date, cash_request_received_date, money_back_date, transfer_type, send_at, recovery_status, reco_creation, reco_last_update, id_usuario]\n",
       "Index: []"
      ]
     },
     "execution_count": 15,
     "metadata": {},
     "output_type": "execute_result"
    }
   ],
   "source": [
    "ds.fees[~ds.fees['cash_request_id'].isin(ds.cash['cash_request_id'].values)].shape # 4 entradas en tabla fees NO tienen su correspondiente en la tabla cash\n",
    "ds.fees[~ds.fees['cash_request_id'].isin(ds.cash['cash_request_id'].values)].head()\n",
    "ds.cash[ds.cash['cash_request_id'].isin([11164, 11444, 11788, 12212])] # Confirmado, esas 4 entradas (para las que hemos repoblado 'cash_request_id') no están en la tabla cash"
   ]
  },
  {
   "cell_type": "code",
   "execution_count": 18,
   "metadata": {},
   "outputs": [
    {
     "name": "stdout",
     "output_type": "stream",
     "text": [
      "<class 'pandas.core.frame.DataFrame'>\n",
      "RangeIndex: 32098 entries, 0 to 32097\n",
      "Data columns (total 30 columns):\n",
      " #   Column                      Non-Null Count  Dtype              \n",
      "---  ------                      --------------  -----              \n",
      " 0   cash_request_id             32094 non-null  float64            \n",
      " 1   amount                      32094 non-null  float64            \n",
      " 2   status                      32094 non-null  object             \n",
      " 3   created_at                  32094 non-null  datetime64[ns, UTC]\n",
      " 4   updated_at                  32094 non-null  datetime64[ns, UTC]\n",
      " 5   user_id                     29522 non-null  float64            \n",
      " 6   moderated_at                21759 non-null  datetime64[ns, UTC]\n",
      " 7   deleted_account_id          2573 non-null   float64            \n",
      " 8   reimbursement_date          32094 non-null  datetime64[ns, UTC]\n",
      " 9   cash_request_received_date  24149 non-null  datetime64[ns]     \n",
      " 10  money_back_date             23917 non-null  datetime64[ns, UTC]\n",
      " 11  transfer_type               32094 non-null  object             \n",
      " 12  send_at                     22678 non-null  datetime64[ns, UTC]\n",
      " 13  recovery_status             7200 non-null   object             \n",
      " 14  reco_creation               7200 non-null   datetime64[ns, UTC]\n",
      " 15  reco_last_update            7200 non-null   datetime64[ns, UTC]\n",
      " 16  id_usuario                  32094 non-null  float64            \n",
      " 17  fee_id                      21061 non-null  float64            \n",
      " 18  fee_cash_request_id         21061 non-null  float64            \n",
      " 19  fee_type                    21061 non-null  object             \n",
      " 20  fee_status                  21061 non-null  object             \n",
      " 21  fee_category                2196 non-null   object             \n",
      " 22  fee_total_amount            21061 non-null  float64            \n",
      " 23  fee_reason                  21061 non-null  object             \n",
      " 24  fee_created_at              21061 non-null  datetime64[ns, UTC]\n",
      " 25  fee_updated_at              21061 non-null  datetime64[ns, UTC]\n",
      " 26  fee_paid_at                 15531 non-null  datetime64[ns, UTC]\n",
      " 27  fee_from_date               7766 non-null   datetime64[ns, UTC]\n",
      " 28  fee_to_date                 7766 non-null   datetime64[ns, UTC]\n",
      " 29  fee_charge_moment           21061 non-null  object             \n",
      "dtypes: datetime64[ns, UTC](13), datetime64[ns](1), float64(8), object(8)\n",
      "memory usage: 7.3+ MB\n"
     ]
    }
   ],
   "source": [
    "ds.merge_tables()\n",
    "ds.merged.info()"
   ]
  },
  {
   "cell_type": "code",
   "execution_count": null,
   "metadata": {},
   "outputs": [],
   "source": []
  }
 ],
 "metadata": {
  "kernelspec": {
   "display_name": "base",
   "language": "python",
   "name": "python3"
  },
  "language_info": {
   "codemirror_mode": {
    "name": "ipython",
    "version": 3
   },
   "file_extension": ".py",
   "mimetype": "text/x-python",
   "name": "python",
   "nbconvert_exporter": "python",
   "pygments_lexer": "ipython3",
   "version": "3.12.4"
  }
 },
 "nbformat": 4,
 "nbformat_minor": 2
}
