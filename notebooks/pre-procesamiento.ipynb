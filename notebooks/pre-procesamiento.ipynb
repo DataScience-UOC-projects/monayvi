{
 "cells": [
  {
   "cell_type": "markdown",
   "metadata": {},
   "source": [
    "# EDA Extensivo"
   ]
  },
  {
   "cell_type": "code",
   "execution_count": 30,
   "metadata": {},
   "outputs": [],
   "source": [
    "%matplotlib inline\n",
    "\n",
    "import numpy as np\n",
    "import pandas as pd"
   ]
  },
  {
   "cell_type": "code",
   "execution_count": 31,
   "metadata": {},
   "outputs": [],
   "source": [
    "import sys, os\n",
    "sys.path.append(os.getcwd().replace('/notebooks',''))  # Replace with current directory name"
   ]
  },
  {
   "cell_type": "code",
   "execution_count": 32,
   "metadata": {},
   "outputs": [],
   "source": [
    "from utils.data import Datasets\n",
    "from utils.eda import column_explore"
   ]
  },
  {
   "cell_type": "code",
   "execution_count": 33,
   "metadata": {},
   "outputs": [],
   "source": [
    "ds = Datasets()"
   ]
  },
  {
   "cell_type": "markdown",
   "metadata": {},
   "source": [
    "## EDA de DataFrame cash_request"
   ]
  },
  {
   "cell_type": "code",
   "execution_count": 34,
   "metadata": {},
   "outputs": [
    {
     "name": "stdout",
     "output_type": "stream",
     "text": [
      "<class 'pandas.core.frame.DataFrame'>\n",
      "RangeIndex: 23970 entries, 0 to 23969\n",
      "Data columns (total 16 columns):\n",
      " #   Column                      Non-Null Count  Dtype  \n",
      "---  ------                      --------------  -----  \n",
      " 0   id                          23970 non-null  int64  \n",
      " 1   amount                      23970 non-null  float64\n",
      " 2   status                      23970 non-null  object \n",
      " 3   created_at                  23970 non-null  object \n",
      " 4   updated_at                  23970 non-null  object \n",
      " 5   user_id                     21867 non-null  float64\n",
      " 6   moderated_at                16035 non-null  object \n",
      " 7   deleted_account_id          2104 non-null   float64\n",
      " 8   reimbursement_date          23970 non-null  object \n",
      " 9   cash_request_received_date  16289 non-null  object \n",
      " 10  money_back_date             16543 non-null  object \n",
      " 11  transfer_type               23970 non-null  object \n",
      " 12  send_at                     16641 non-null  object \n",
      " 13  recovery_status             3330 non-null   object \n",
      " 14  reco_creation               3330 non-null   object \n",
      " 15  reco_last_update            3330 non-null   object \n",
      "dtypes: float64(3), int64(1), object(12)\n",
      "memory usage: 2.9+ MB\n"
     ]
    }
   ],
   "source": [
    "ds.dataset_cash_original_df.info()\n",
    "# 23.970 filas\n",
    "# Columnas de fechas:\n",
    "    # created_at\n",
    "    # updated_at\n",
    "    # moderated_at\n",
    "    # reimbursement_date\n",
    "    # cash_request_received_date\n",
    "    # money_back_date\n",
    "    # send_at\n",
    "    # reco_creation\n",
    "    # reco_last_update\n",
    "# Columnas categóricas:\n",
    "    # status\n",
    "    # transfer_type\n",
    "    # recovery_status"
   ]
  },
  {
   "cell_type": "code",
   "execution_count": 35,
   "metadata": {},
   "outputs": [
    {
     "name": "stdout",
     "output_type": "stream",
     "text": [
      "<class 'pandas.core.frame.DataFrame'>\n",
      "RangeIndex: 23970 entries, 0 to 23969\n",
      "Data columns (total 17 columns):\n",
      " #   Column                      Non-Null Count  Dtype              \n",
      "---  ------                      --------------  -----              \n",
      " 0   cash_request_id             23970 non-null  int64              \n",
      " 1   amount                      23970 non-null  float64            \n",
      " 2   status                      23970 non-null  object             \n",
      " 3   created_at                  23970 non-null  datetime64[ns, UTC]\n",
      " 4   updated_at                  23970 non-null  datetime64[ns, UTC]\n",
      " 5   user_id                     21867 non-null  float64            \n",
      " 6   moderated_at                16035 non-null  datetime64[ns, UTC]\n",
      " 7   deleted_account_id          2104 non-null   float64            \n",
      " 8   reimbursement_date          23970 non-null  datetime64[ns, UTC]\n",
      " 9   cash_request_received_date  16289 non-null  datetime64[ns]     \n",
      " 10  money_back_date             16543 non-null  datetime64[ns, UTC]\n",
      " 11  transfer_type               23970 non-null  object             \n",
      " 12  send_at                     16641 non-null  datetime64[ns, UTC]\n",
      " 13  recovery_status             3330 non-null   object             \n",
      " 14  reco_creation               3330 non-null   datetime64[ns, UTC]\n",
      " 15  reco_last_update            3330 non-null   datetime64[ns, UTC]\n",
      " 16  id_usuario                  23970 non-null  int64              \n",
      "dtypes: datetime64[ns, UTC](8), datetime64[ns](1), float64(3), int64(2), object(3)\n",
      "memory usage: 3.1+ MB\n"
     ]
    }
   ],
   "source": [
    "ds.cash.info()"
   ]
  },
  {
   "cell_type": "code",
   "execution_count": 36,
   "metadata": {},
   "outputs": [],
   "source": [
    "# OBSERVACIÓN: 'created_at' está en formato UTC pero 'cash_request_received_date' no, porque esa columna no tenía información horaria sino sólo la fecha."
   ]
  },
  {
   "cell_type": "code",
   "execution_count": 37,
   "metadata": {},
   "outputs": [
    {
     "data": {
      "text/plain": [
       "9079     2020-02-06 20:09:57.328839+00\n",
       "21153    2020-10-28 08:16:35.216588+00\n",
       "15170    2020-10-06 09:37:35.108033+00\n",
       "46       2019-12-13 08:33:04.569112+00\n",
       "14121     2020-08-10 14:54:44.18949+00\n",
       "Name: created_at, dtype: object"
      ]
     },
     "execution_count": 37,
     "metadata": {},
     "output_type": "execute_result"
    }
   ],
   "source": [
    "ds.dataset_cash_original_df['created_at'].sample(5)\n"
   ]
  },
  {
   "cell_type": "code",
   "execution_count": 38,
   "metadata": {},
   "outputs": [
    {
     "data": {
      "text/plain": [
       "23851    2020-10-24\n",
       "8589     2020-07-21\n",
       "5156            NaN\n",
       "12542    2020-06-18\n",
       "13636    2020-10-01\n",
       "Name: cash_request_received_date, dtype: object"
      ]
     },
     "execution_count": 38,
     "metadata": {},
     "output_type": "execute_result"
    }
   ],
   "source": [
    "ds.dataset_cash_original_df['cash_request_received_date'].sample(5)"
   ]
  },
  {
   "cell_type": "code",
   "execution_count": 39,
   "metadata": {},
   "outputs": [],
   "source": [
    "# La conversión de las siguiente columnas dio errores. Inspeccionaremos las columnas para per cómo subsanarlos.\n",
    "\n",
    "# 'moderated_at'\n",
    "# ValueError: time data \"2019-12-20 17:29:18+00\" doesn't match format \"%Y-%m-%d %H:%M:%S.%f%z\", at position 157. You might want to try:\n",
    "#     - passing `format` if your strings have a consistent format;\n",
    "#     - passing `format='ISO8601'` if your strings are all ISO8601 but not necessarily in exactly the same format;\n",
    "#     - passing `format='mixed'`, and the format will be inferred for each element individually. You might want to use `dayfirst` alongside this.\n",
    "\n",
    "# 'reimbursement_date'\n",
    "# time data \"2020-06-05 22:00:00+00\" doesn't match format \"%Y-%m-%d %H:%M:%S.%f%z\", at position 4. You might want to try:\n",
    "\n",
    "# 'money_back_date'\n",
    "# ValueError: time data \"2020-07-15 22:00:00+00\" doesn't match format \"%Y-%m-%d %H:%M:%S.%f%z\", at position 12. You might want to try:\n",
    "\n",
    "# 'send_at'\n",
    "# ValueError: time data \"2020-08-12 09:34:16+00\" doesn't match format \"%Y-%m-%d %H:%M:%S.%f%z\", at position 29. You might want to try:"
   ]
  },
  {
   "cell_type": "code",
   "execution_count": 40,
   "metadata": {},
   "outputs": [
    {
     "name": "stdout",
     "output_type": "stream",
     "text": [
      "2019-12-20 17:29:18+00\n",
      "\n",
      "2029     2020-06-19 12:49:00.557015+00\n",
      "19137                              NaN\n",
      "14551                              NaN\n",
      "22742                              NaN\n",
      "8901                               NaN\n",
      "Name: moderated_at, dtype: object\n"
     ]
    }
   ],
   "source": [
    "print(ds.dataset_cash_original_df.loc[157,'moderated_at'])\n",
    "print()\n",
    "print(ds.dataset_cash_original_df['moderated_at'].sample(5))"
   ]
  },
  {
   "cell_type": "code",
   "execution_count": 41,
   "metadata": {},
   "outputs": [],
   "source": [
    "# Prueba de conversión a fecha para una de las columnas conflictivas\n",
    "ds.cash['moderated_at'] = pd.to_datetime(ds.cash['moderated_at'], format='mixed')        "
   ]
  },
  {
   "cell_type": "code",
   "execution_count": 42,
   "metadata": {},
   "outputs": [],
   "source": [
    "# CONCLUSIÓN: Podemos usar el parámetro format='mixed' para las fechas problemáticas."
   ]
  },
  {
   "cell_type": "code",
   "execution_count": 43,
   "metadata": {},
   "outputs": [
    {
     "name": "stdout",
     "output_type": "stream",
     "text": [
      "2019-12-20 17:29:18+00:00\n",
      "datetime64[ns, UTC]\n"
     ]
    }
   ],
   "source": [
    "print(ds.cash.loc[157,'moderated_at'])\n",
    "print(ds.cash['moderated_at'].dtype)"
   ]
  },
  {
   "cell_type": "markdown",
   "metadata": {},
   "source": [
    "## EDA de DataFrame fees"
   ]
  },
  {
   "cell_type": "code",
   "execution_count": 44,
   "metadata": {},
   "outputs": [
    {
     "name": "stdout",
     "output_type": "stream",
     "text": [
      "<class 'pandas.core.frame.DataFrame'>\n",
      "RangeIndex: 21061 entries, 0 to 21060\n",
      "Data columns (total 13 columns):\n",
      " #   Column           Non-Null Count  Dtype  \n",
      "---  ------           --------------  -----  \n",
      " 0   id               21061 non-null  int64  \n",
      " 1   cash_request_id  21057 non-null  float64\n",
      " 2   type             21061 non-null  object \n",
      " 3   status           21061 non-null  object \n",
      " 4   category         2196 non-null   object \n",
      " 5   total_amount     21061 non-null  float64\n",
      " 6   reason           21061 non-null  object \n",
      " 7   created_at       21061 non-null  object \n",
      " 8   updated_at       21061 non-null  object \n",
      " 9   paid_at          15531 non-null  object \n",
      " 10  from_date        7766 non-null   object \n",
      " 11  to_date          7766 non-null   object \n",
      " 12  charge_moment    21061 non-null  object \n",
      "dtypes: float64(2), int64(1), object(10)\n",
      "memory usage: 2.1+ MB\n"
     ]
    }
   ],
   "source": [
    "ds.dataset_fees_original_df.info()\n",
    "# 21.061 filas\n",
    "# Columnas de fechas:\n",
    "    # created_at\n",
    "    # updated_at\n",
    "    # paid_at\n",
    "    # from_date\n",
    "    # to_date    \n",
    "# Columnas categóricas:\n",
    "    # type\n",
    "    # status\n",
    "    # category    \n",
    "    # reason ¿?\n",
    "    # charge_moment"
   ]
  },
  {
   "cell_type": "code",
   "execution_count": 45,
   "metadata": {},
   "outputs": [
    {
     "name": "stdout",
     "output_type": "stream",
     "text": [
      "<class 'pandas.core.frame.DataFrame'>\n",
      "RangeIndex: 21061 entries, 0 to 21060\n",
      "Data columns (total 13 columns):\n",
      " #   Column           Non-Null Count  Dtype              \n",
      "---  ------           --------------  -----              \n",
      " 0   id               21061 non-null  int64              \n",
      " 1   cash_request_id  21061 non-null  int64              \n",
      " 2   type             21061 non-null  object             \n",
      " 3   status           21061 non-null  object             \n",
      " 4   category         2196 non-null   object             \n",
      " 5   total_amount     21061 non-null  float64            \n",
      " 6   reason           21061 non-null  object             \n",
      " 7   created_at       21061 non-null  datetime64[ns, UTC]\n",
      " 8   updated_at       21061 non-null  datetime64[ns, UTC]\n",
      " 9   paid_at          15531 non-null  datetime64[ns, UTC]\n",
      " 10  from_date        7766 non-null   datetime64[ns, UTC]\n",
      " 11  to_date          7766 non-null   datetime64[ns, UTC]\n",
      " 12  charge_moment    21061 non-null  object             \n",
      "dtypes: datetime64[ns, UTC](5), float64(1), int64(2), object(5)\n",
      "memory usage: 2.1+ MB\n"
     ]
    }
   ],
   "source": [
    "ds.fees.info()"
   ]
  },
  {
   "cell_type": "markdown",
   "metadata": {},
   "source": [
    "## Correlación entre datos"
   ]
  },
  {
   "cell_type": "markdown",
   "metadata": {},
   "source": [
    "### DataFrame cash_request"
   ]
  },
  {
   "cell_type": "code",
   "execution_count": 46,
   "metadata": {},
   "outputs": [
    {
     "data": {
      "text/html": [
       "<div>\n",
       "<style scoped>\n",
       "    .dataframe tbody tr th:only-of-type {\n",
       "        vertical-align: middle;\n",
       "    }\n",
       "\n",
       "    .dataframe tbody tr th {\n",
       "        vertical-align: top;\n",
       "    }\n",
       "\n",
       "    .dataframe thead th {\n",
       "        text-align: right;\n",
       "    }\n",
       "</style>\n",
       "<table border=\"1\" class=\"dataframe\">\n",
       "  <thead>\n",
       "    <tr style=\"text-align: right;\">\n",
       "      <th></th>\n",
       "      <th>cash_request_id</th>\n",
       "      <th>amount</th>\n",
       "      <th>user_id</th>\n",
       "      <th>deleted_account_id</th>\n",
       "      <th>id_usuario</th>\n",
       "    </tr>\n",
       "  </thead>\n",
       "  <tbody>\n",
       "    <tr>\n",
       "      <th>0</th>\n",
       "      <td>5</td>\n",
       "      <td>100.0</td>\n",
       "      <td>804.0</td>\n",
       "      <td>NaN</td>\n",
       "      <td>804</td>\n",
       "    </tr>\n",
       "    <tr>\n",
       "      <th>1</th>\n",
       "      <td>70</td>\n",
       "      <td>100.0</td>\n",
       "      <td>231.0</td>\n",
       "      <td>NaN</td>\n",
       "      <td>231</td>\n",
       "    </tr>\n",
       "    <tr>\n",
       "      <th>2</th>\n",
       "      <td>7</td>\n",
       "      <td>100.0</td>\n",
       "      <td>191.0</td>\n",
       "      <td>NaN</td>\n",
       "      <td>191</td>\n",
       "    </tr>\n",
       "    <tr>\n",
       "      <th>3</th>\n",
       "      <td>10</td>\n",
       "      <td>99.0</td>\n",
       "      <td>761.0</td>\n",
       "      <td>NaN</td>\n",
       "      <td>761</td>\n",
       "    </tr>\n",
       "    <tr>\n",
       "      <th>4</th>\n",
       "      <td>1594</td>\n",
       "      <td>100.0</td>\n",
       "      <td>7686.0</td>\n",
       "      <td>NaN</td>\n",
       "      <td>7686</td>\n",
       "    </tr>\n",
       "  </tbody>\n",
       "</table>\n",
       "</div>"
      ],
      "text/plain": [
       "   cash_request_id  amount  user_id  deleted_account_id  id_usuario\n",
       "0                5   100.0    804.0                 NaN         804\n",
       "1               70   100.0    231.0                 NaN         231\n",
       "2                7   100.0    191.0                 NaN         191\n",
       "3               10    99.0    761.0                 NaN         761\n",
       "4             1594   100.0   7686.0                 NaN        7686"
      ]
     },
     "execution_count": 46,
     "metadata": {},
     "output_type": "execute_result"
    }
   ],
   "source": [
    "numericals = ds.cash.select_dtypes(np.number)\n",
    "numericals.head()"
   ]
  },
  {
   "cell_type": "code",
   "execution_count": 47,
   "metadata": {},
   "outputs": [
    {
     "data": {
      "text/html": [
       "<div>\n",
       "<style scoped>\n",
       "    .dataframe tbody tr th:only-of-type {\n",
       "        vertical-align: middle;\n",
       "    }\n",
       "\n",
       "    .dataframe tbody tr th {\n",
       "        vertical-align: top;\n",
       "    }\n",
       "\n",
       "    .dataframe thead th {\n",
       "        text-align: right;\n",
       "    }\n",
       "</style>\n",
       "<table border=\"1\" class=\"dataframe\">\n",
       "  <thead>\n",
       "    <tr style=\"text-align: right;\">\n",
       "      <th></th>\n",
       "      <th>cash_request_id</th>\n",
       "      <th>amount</th>\n",
       "      <th>user_id</th>\n",
       "      <th>deleted_account_id</th>\n",
       "      <th>id_usuario</th>\n",
       "    </tr>\n",
       "  </thead>\n",
       "  <tbody>\n",
       "    <tr>\n",
       "      <th>cash_request_id</th>\n",
       "      <td>1.000000</td>\n",
       "      <td>-0.363045</td>\n",
       "      <td>0.719851</td>\n",
       "      <td>0.457923</td>\n",
       "      <td>0.711719</td>\n",
       "    </tr>\n",
       "    <tr>\n",
       "      <th>amount</th>\n",
       "      <td>-0.363045</td>\n",
       "      <td>1.000000</td>\n",
       "      <td>-0.313530</td>\n",
       "      <td>-0.138289</td>\n",
       "      <td>-0.296895</td>\n",
       "    </tr>\n",
       "    <tr>\n",
       "      <th>user_id</th>\n",
       "      <td>0.719851</td>\n",
       "      <td>-0.313530</td>\n",
       "      <td>1.000000</td>\n",
       "      <td>NaN</td>\n",
       "      <td>1.000000</td>\n",
       "    </tr>\n",
       "    <tr>\n",
       "      <th>deleted_account_id</th>\n",
       "      <td>0.457923</td>\n",
       "      <td>-0.138289</td>\n",
       "      <td>NaN</td>\n",
       "      <td>1.000000</td>\n",
       "      <td>0.999969</td>\n",
       "    </tr>\n",
       "    <tr>\n",
       "      <th>id_usuario</th>\n",
       "      <td>0.711719</td>\n",
       "      <td>-0.296895</td>\n",
       "      <td>1.000000</td>\n",
       "      <td>0.999969</td>\n",
       "      <td>1.000000</td>\n",
       "    </tr>\n",
       "  </tbody>\n",
       "</table>\n",
       "</div>"
      ],
      "text/plain": [
       "                    cash_request_id    amount   user_id  deleted_account_id  \\\n",
       "cash_request_id            1.000000 -0.363045  0.719851            0.457923   \n",
       "amount                    -0.363045  1.000000 -0.313530           -0.138289   \n",
       "user_id                    0.719851 -0.313530  1.000000                 NaN   \n",
       "deleted_account_id         0.457923 -0.138289       NaN            1.000000   \n",
       "id_usuario                 0.711719 -0.296895  1.000000            0.999969   \n",
       "\n",
       "                    id_usuario  \n",
       "cash_request_id       0.711719  \n",
       "amount               -0.296895  \n",
       "user_id               1.000000  \n",
       "deleted_account_id    0.999969  \n",
       "id_usuario            1.000000  "
      ]
     },
     "metadata": {},
     "output_type": "display_data"
    }
   ],
   "source": [
    "corr = numericals.corr()\n",
    "display(corr)"
   ]
  },
  {
   "cell_type": "code",
   "execution_count": 48,
   "metadata": {},
   "outputs": [
    {
     "data": {
      "text/plain": [
       "<Axes: >"
      ]
     },
     "execution_count": 48,
     "metadata": {},
     "output_type": "execute_result"
    },
    {
     "data": {
      "image/png": "[encoded data removed]",
      "text/plain": [
       "<Figure size 1200x600 with 2 Axes>"
      ]
     },
     "metadata": {},
     "output_type": "display_data"
    }
   ],
   "source": [
    "# Create a heatmap to visualize the correlation matrix\n",
    "\n",
    "import seaborn as sns\n",
    "sns.set_context(\"poster\") # Set the Seaborn context to \"poster\" for larger text and figures\n",
    "sns.set(rc={\"figure.figsize\": (12., 6.)}) # Set the default figure size for Seaborn plots\n",
    "sns.set_style(\"whitegrid\") # Set the Seaborn style to \"whitegrid\" for a white background with gridlines\n",
    "\n",
    "sns.heatmap(corr.round(2), annot=True)"
   ]
  },
  {
   "cell_type": "markdown",
   "metadata": {},
   "source": [
    "### DataFrame fees"
   ]
  },
  {
   "cell_type": "code",
   "execution_count": 49,
   "metadata": {},
   "outputs": [
    {
     "data": {
      "text/html": [
       "<div>\n",
       "<style scoped>\n",
       "    .dataframe tbody tr th:only-of-type {\n",
       "        vertical-align: middle;\n",
       "    }\n",
       "\n",
       "    .dataframe tbody tr th {\n",
       "        vertical-align: top;\n",
       "    }\n",
       "\n",
       "    .dataframe thead th {\n",
       "        text-align: right;\n",
       "    }\n",
       "</style>\n",
       "<table border=\"1\" class=\"dataframe\">\n",
       "  <thead>\n",
       "    <tr style=\"text-align: right;\">\n",
       "      <th></th>\n",
       "      <th>id</th>\n",
       "      <th>cash_request_id</th>\n",
       "      <th>total_amount</th>\n",
       "    </tr>\n",
       "  </thead>\n",
       "  <tbody>\n",
       "    <tr>\n",
       "      <th>0</th>\n",
       "      <td>6537</td>\n",
       "      <td>14941</td>\n",
       "      <td>5.0</td>\n",
       "    </tr>\n",
       "    <tr>\n",
       "      <th>1</th>\n",
       "      <td>6961</td>\n",
       "      <td>11714</td>\n",
       "      <td>5.0</td>\n",
       "    </tr>\n",
       "    <tr>\n",
       "      <th>2</th>\n",
       "      <td>16296</td>\n",
       "      <td>23371</td>\n",
       "      <td>5.0</td>\n",
       "    </tr>\n",
       "    <tr>\n",
       "      <th>3</th>\n",
       "      <td>20775</td>\n",
       "      <td>26772</td>\n",
       "      <td>5.0</td>\n",
       "    </tr>\n",
       "    <tr>\n",
       "      <th>4</th>\n",
       "      <td>11242</td>\n",
       "      <td>19350</td>\n",
       "      <td>5.0</td>\n",
       "    </tr>\n",
       "  </tbody>\n",
       "</table>\n",
       "</div>"
      ],
      "text/plain": [
       "      id  cash_request_id  total_amount\n",
       "0   6537            14941           5.0\n",
       "1   6961            11714           5.0\n",
       "2  16296            23371           5.0\n",
       "3  20775            26772           5.0\n",
       "4  11242            19350           5.0"
      ]
     },
     "execution_count": 49,
     "metadata": {},
     "output_type": "execute_result"
    }
   ],
   "source": [
    "numericals = ds.fees.select_dtypes(np.number)\n",
    "numericals.head()"
   ]
  },
  {
   "cell_type": "code",
   "execution_count": 50,
   "metadata": {},
   "outputs": [
    {
     "data": {
      "text/html": [
       "<div>\n",
       "<style scoped>\n",
       "    .dataframe tbody tr th:only-of-type {\n",
       "        vertical-align: middle;\n",
       "    }\n",
       "\n",
       "    .dataframe tbody tr th {\n",
       "        vertical-align: top;\n",
       "    }\n",
       "\n",
       "    .dataframe thead th {\n",
       "        text-align: right;\n",
       "    }\n",
       "</style>\n",
       "<table border=\"1\" class=\"dataframe\">\n",
       "  <thead>\n",
       "    <tr style=\"text-align: right;\">\n",
       "      <th></th>\n",
       "      <th>id</th>\n",
       "      <th>cash_request_id</th>\n",
       "      <th>total_amount</th>\n",
       "    </tr>\n",
       "  </thead>\n",
       "  <tbody>\n",
       "    <tr>\n",
       "      <th>id</th>\n",
       "      <td>1.000000</td>\n",
       "      <td>0.884239</td>\n",
       "      <td>0.005544</td>\n",
       "    </tr>\n",
       "    <tr>\n",
       "      <th>cash_request_id</th>\n",
       "      <td>0.884239</td>\n",
       "      <td>1.000000</td>\n",
       "      <td>0.006710</td>\n",
       "    </tr>\n",
       "    <tr>\n",
       "      <th>total_amount</th>\n",
       "      <td>0.005544</td>\n",
       "      <td>0.006710</td>\n",
       "      <td>1.000000</td>\n",
       "    </tr>\n",
       "  </tbody>\n",
       "</table>\n",
       "</div>"
      ],
      "text/plain": [
       "                       id  cash_request_id  total_amount\n",
       "id               1.000000         0.884239      0.005544\n",
       "cash_request_id  0.884239         1.000000      0.006710\n",
       "total_amount     0.005544         0.006710      1.000000"
      ]
     },
     "metadata": {},
     "output_type": "display_data"
    }
   ],
   "source": [
    "corr = numericals.corr()\n",
    "display(corr)"
   ]
  },
  {
   "cell_type": "code",
   "execution_count": 51,
   "metadata": {},
   "outputs": [
    {
     "data": {
      "text/plain": [
       "<Axes: >"
      ]
     },
     "execution_count": 51,
     "metadata": {},
     "output_type": "execute_result"
    },
    {
     "data": {
      "image/png": "[encoded data removed]",
      "text/plain": [
       "<Figure size 1200x600 with 2 Axes>"
      ]
     },
     "metadata": {},
     "output_type": "display_data"
    }
   ],
   "source": [
    "# Create a heatmap to visualize the correlation matrix\n",
    "\n",
    "import seaborn as sns\n",
    "sns.set_context(\"poster\") # Set the Seaborn context to \"poster\" for larger text and figures\n",
    "sns.set(rc={\"figure.figsize\": (12., 6.)}) # Set the default figure size for Seaborn plots\n",
    "sns.set_style(\"whitegrid\") # Set the Seaborn style to \"whitegrid\" for a white background with gridlines\n",
    "\n",
    "sns.heatmap(corr.round(2), annot=True)"
   ]
  },
  {
   "cell_type": "markdown",
   "metadata": {},
   "source": [
    "### DataFrame merged"
   ]
  },
  {
   "cell_type": "code",
   "execution_count": 52,
   "metadata": {},
   "outputs": [
    {
     "data": {
      "text/html": [
       "<div>\n",
       "<style scoped>\n",
       "    .dataframe tbody tr th:only-of-type {\n",
       "        vertical-align: middle;\n",
       "    }\n",
       "\n",
       "    .dataframe tbody tr th {\n",
       "        vertical-align: top;\n",
       "    }\n",
       "\n",
       "    .dataframe thead th {\n",
       "        text-align: right;\n",
       "    }\n",
       "</style>\n",
       "<table border=\"1\" class=\"dataframe\">\n",
       "  <thead>\n",
       "    <tr style=\"text-align: right;\">\n",
       "      <th></th>\n",
       "      <th>cash_request_id</th>\n",
       "      <th>amount</th>\n",
       "      <th>user_id</th>\n",
       "      <th>deleted_account_id</th>\n",
       "      <th>id_usuario</th>\n",
       "      <th>fee_id</th>\n",
       "      <th>fee_cash_request_id</th>\n",
       "      <th>fee_total_amount</th>\n",
       "    </tr>\n",
       "  </thead>\n",
       "  <tbody>\n",
       "    <tr>\n",
       "      <th>0</th>\n",
       "      <td>3.0</td>\n",
       "      <td>1.0</td>\n",
       "      <td>47.0</td>\n",
       "      <td>NaN</td>\n",
       "      <td>47.0</td>\n",
       "      <td>NaN</td>\n",
       "      <td>NaN</td>\n",
       "      <td>NaN</td>\n",
       "    </tr>\n",
       "    <tr>\n",
       "      <th>1</th>\n",
       "      <td>4.0</td>\n",
       "      <td>100.0</td>\n",
       "      <td>NaN</td>\n",
       "      <td>1309.0</td>\n",
       "      <td>1309.0</td>\n",
       "      <td>NaN</td>\n",
       "      <td>NaN</td>\n",
       "      <td>NaN</td>\n",
       "    </tr>\n",
       "    <tr>\n",
       "      <th>2</th>\n",
       "      <td>5.0</td>\n",
       "      <td>100.0</td>\n",
       "      <td>804.0</td>\n",
       "      <td>NaN</td>\n",
       "      <td>804.0</td>\n",
       "      <td>NaN</td>\n",
       "      <td>NaN</td>\n",
       "      <td>NaN</td>\n",
       "    </tr>\n",
       "    <tr>\n",
       "      <th>3</th>\n",
       "      <td>6.0</td>\n",
       "      <td>100.0</td>\n",
       "      <td>812.0</td>\n",
       "      <td>NaN</td>\n",
       "      <td>812.0</td>\n",
       "      <td>NaN</td>\n",
       "      <td>NaN</td>\n",
       "      <td>NaN</td>\n",
       "    </tr>\n",
       "    <tr>\n",
       "      <th>4</th>\n",
       "      <td>7.0</td>\n",
       "      <td>100.0</td>\n",
       "      <td>191.0</td>\n",
       "      <td>NaN</td>\n",
       "      <td>191.0</td>\n",
       "      <td>NaN</td>\n",
       "      <td>NaN</td>\n",
       "      <td>NaN</td>\n",
       "    </tr>\n",
       "  </tbody>\n",
       "</table>\n",
       "</div>"
      ],
      "text/plain": [
       "   cash_request_id  amount  user_id  deleted_account_id  id_usuario  fee_id  \\\n",
       "0              3.0     1.0     47.0                 NaN        47.0     NaN   \n",
       "1              4.0   100.0      NaN              1309.0      1309.0     NaN   \n",
       "2              5.0   100.0    804.0                 NaN       804.0     NaN   \n",
       "3              6.0   100.0    812.0                 NaN       812.0     NaN   \n",
       "4              7.0   100.0    191.0                 NaN       191.0     NaN   \n",
       "\n",
       "   fee_cash_request_id  fee_total_amount  \n",
       "0                  NaN               NaN  \n",
       "1                  NaN               NaN  \n",
       "2                  NaN               NaN  \n",
       "3                  NaN               NaN  \n",
       "4                  NaN               NaN  "
      ]
     },
     "execution_count": 52,
     "metadata": {},
     "output_type": "execute_result"
    }
   ],
   "source": [
    "ds.merge_tables()\n",
    "numericals = ds.merged.select_dtypes(np.number)\n",
    "numericals.head()"
   ]
  },
  {
   "cell_type": "code",
   "execution_count": 53,
   "metadata": {},
   "outputs": [
    {
     "data": {
      "text/html": [
       "<div>\n",
       "<style scoped>\n",
       "    .dataframe tbody tr th:only-of-type {\n",
       "        vertical-align: middle;\n",
       "    }\n",
       "\n",
       "    .dataframe tbody tr th {\n",
       "        vertical-align: top;\n",
       "    }\n",
       "\n",
       "    .dataframe thead th {\n",
       "        text-align: right;\n",
       "    }\n",
       "</style>\n",
       "<table border=\"1\" class=\"dataframe\">\n",
       "  <thead>\n",
       "    <tr style=\"text-align: right;\">\n",
       "      <th></th>\n",
       "      <th>cash_request_id</th>\n",
       "      <th>amount</th>\n",
       "      <th>user_id</th>\n",
       "      <th>deleted_account_id</th>\n",
       "      <th>id_usuario</th>\n",
       "      <th>fee_id</th>\n",
       "      <th>fee_cash_request_id</th>\n",
       "      <th>fee_total_amount</th>\n",
       "    </tr>\n",
       "  </thead>\n",
       "  <tbody>\n",
       "    <tr>\n",
       "      <th>cash_request_id</th>\n",
       "      <td>1.000000</td>\n",
       "      <td>-0.338806</td>\n",
       "      <td>0.712542</td>\n",
       "      <td>0.452444</td>\n",
       "      <td>0.704965</td>\n",
       "      <td>0.884238</td>\n",
       "      <td>1.000000</td>\n",
       "      <td>0.006710</td>\n",
       "    </tr>\n",
       "    <tr>\n",
       "      <th>amount</th>\n",
       "      <td>-0.338806</td>\n",
       "      <td>1.000000</td>\n",
       "      <td>-0.288022</td>\n",
       "      <td>-0.110441</td>\n",
       "      <td>-0.272915</td>\n",
       "      <td>-0.290704</td>\n",
       "      <td>-0.316413</td>\n",
       "      <td>-0.008142</td>\n",
       "    </tr>\n",
       "    <tr>\n",
       "      <th>user_id</th>\n",
       "      <td>0.712542</td>\n",
       "      <td>-0.288022</td>\n",
       "      <td>1.000000</td>\n",
       "      <td>NaN</td>\n",
       "      <td>1.000000</td>\n",
       "      <td>0.643388</td>\n",
       "      <td>0.686447</td>\n",
       "      <td>NaN</td>\n",
       "    </tr>\n",
       "    <tr>\n",
       "      <th>deleted_account_id</th>\n",
       "      <td>0.452444</td>\n",
       "      <td>-0.110441</td>\n",
       "      <td>NaN</td>\n",
       "      <td>1.000000</td>\n",
       "      <td>0.999976</td>\n",
       "      <td>0.578625</td>\n",
       "      <td>0.598340</td>\n",
       "      <td>0.032938</td>\n",
       "    </tr>\n",
       "    <tr>\n",
       "      <th>id_usuario</th>\n",
       "      <td>0.704965</td>\n",
       "      <td>-0.272915</td>\n",
       "      <td>1.000000</td>\n",
       "      <td>0.999976</td>\n",
       "      <td>1.000000</td>\n",
       "      <td>0.642265</td>\n",
       "      <td>0.683745</td>\n",
       "      <td>-0.003111</td>\n",
       "    </tr>\n",
       "    <tr>\n",
       "      <th>fee_id</th>\n",
       "      <td>0.884238</td>\n",
       "      <td>-0.290704</td>\n",
       "      <td>0.643388</td>\n",
       "      <td>0.578625</td>\n",
       "      <td>0.642265</td>\n",
       "      <td>1.000000</td>\n",
       "      <td>0.884239</td>\n",
       "      <td>0.005544</td>\n",
       "    </tr>\n",
       "    <tr>\n",
       "      <th>fee_cash_request_id</th>\n",
       "      <td>1.000000</td>\n",
       "      <td>-0.316413</td>\n",
       "      <td>0.686447</td>\n",
       "      <td>0.598340</td>\n",
       "      <td>0.683745</td>\n",
       "      <td>0.884239</td>\n",
       "      <td>1.000000</td>\n",
       "      <td>0.006710</td>\n",
       "    </tr>\n",
       "    <tr>\n",
       "      <th>fee_total_amount</th>\n",
       "      <td>0.006710</td>\n",
       "      <td>-0.008142</td>\n",
       "      <td>NaN</td>\n",
       "      <td>0.032938</td>\n",
       "      <td>-0.003111</td>\n",
       "      <td>0.005544</td>\n",
       "      <td>0.006710</td>\n",
       "      <td>1.000000</td>\n",
       "    </tr>\n",
       "  </tbody>\n",
       "</table>\n",
       "</div>"
      ],
      "text/plain": [
       "                     cash_request_id    amount   user_id  deleted_account_id  \\\n",
       "cash_request_id             1.000000 -0.338806  0.712542            0.452444   \n",
       "amount                     -0.338806  1.000000 -0.288022           -0.110441   \n",
       "user_id                     0.712542 -0.288022  1.000000                 NaN   \n",
       "deleted_account_id          0.452444 -0.110441       NaN            1.000000   \n",
       "id_usuario                  0.704965 -0.272915  1.000000            0.999976   \n",
       "fee_id                      0.884238 -0.290704  0.643388            0.578625   \n",
       "fee_cash_request_id         1.000000 -0.316413  0.686447            0.598340   \n",
       "fee_total_amount            0.006710 -0.008142       NaN            0.032938   \n",
       "\n",
       "                     id_usuario    fee_id  fee_cash_request_id  \\\n",
       "cash_request_id        0.704965  0.884238             1.000000   \n",
       "amount                -0.272915 -0.290704            -0.316413   \n",
       "user_id                1.000000  0.643388             0.686447   \n",
       "deleted_account_id     0.999976  0.578625             0.598340   \n",
       "id_usuario             1.000000  0.642265             0.683745   \n",
       "fee_id                 0.642265  1.000000             0.884239   \n",
       "fee_cash_request_id    0.683745  0.884239             1.000000   \n",
       "fee_total_amount      -0.003111  0.005544             0.006710   \n",
       "\n",
       "                     fee_total_amount  \n",
       "cash_request_id              0.006710  \n",
       "amount                      -0.008142  \n",
       "user_id                           NaN  \n",
       "deleted_account_id           0.032938  \n",
       "id_usuario                  -0.003111  \n",
       "fee_id                       0.005544  \n",
       "fee_cash_request_id          0.006710  \n",
       "fee_total_amount             1.000000  "
      ]
     },
     "metadata": {},
     "output_type": "display_data"
    }
   ],
   "source": [
    "corr = numericals.corr()\n",
    "display(corr)"
   ]
  },
  {
   "cell_type": "code",
   "execution_count": 54,
   "metadata": {},
   "outputs": [
    {
     "data": {
      "text/plain": [
       "<Axes: >"
      ]
     },
     "execution_count": 54,
     "metadata": {},
     "output_type": "execute_result"
    },
    {
     "data": {
      "image/png": "[encoded data removed]",
      "text/plain": [
       "<Figure size 1200x600 with 2 Axes>"
      ]
     },
     "metadata": {},
     "output_type": "display_data"
    }
   ],
   "source": [
    "# Create a heatmap to visualize the correlation matrix\n",
    "\n",
    "import seaborn as sns\n",
    "sns.set_context(\"poster\") # Set the Seaborn context to \"poster\" for larger text and figures\n",
    "sns.set(rc={\"figure.figsize\": (12., 6.)}) # Set the default figure size for Seaborn plots\n",
    "sns.set_style(\"whitegrid\") # Set the Seaborn style to \"whitegrid\" for a white background with gridlines\n",
    "\n",
    "sns.heatmap(corr.round(2), annot=True)"
   ]
  },
  {
   "cell_type": "code",
   "execution_count": 55,
   "metadata": {},
   "outputs": [
    {
     "data": {
      "text/plain": [
       "(21866, 17)"
      ]
     },
     "execution_count": 55,
     "metadata": {},
     "output_type": "execute_result"
    }
   ],
   "source": [
    "ds.cash[ds.cash['deleted_account_id'].isna()].shape"
   ]
  },
  {
   "cell_type": "code",
   "execution_count": null,
   "metadata": {},
   "outputs": [],
   "source": []
  }
 ],
 "metadata": {
  "kernelspec": {
   "display_name": "base",
   "language": "python",
   "name": "python3"
  },
  "language_info": {
   "codemirror_mode": {
    "name": "ipython",
    "version": 3
   },
   "file_extension": ".py",
   "mimetype": "text/x-python",
   "name": "python",
   "nbconvert_exporter": "python",
   "pygments_lexer": "ipython3",
   "version": "3.12.4"
  }
 },
 "nbformat": 4,
 "nbformat_minor": 2
}
