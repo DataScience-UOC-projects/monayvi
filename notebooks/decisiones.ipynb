{
 "cells": [
  {
   "cell_type": "markdown",
   "metadata": {},
   "source": [
    "# Decisiones de pre-procesamiento"
   ]
  },
  {
   "cell_type": "markdown",
   "metadata": {},
   "source": [
    "Del EDA se obtienen las siguiente observaciones:\n",
    "\n",
    "1. cash_request: 23.970 filas\n",
    "2. fees: 21.061 filas\n",
    "\n",
    "3. Hay 11.037 entradas en cash_request que no tienen correspondencia en fees (porque son solicitudes SIN incidentes donde todo ha ido bien).\n",
    "4. Hay 4 entradas en fees, en las que hemos repoblado 'cash_request_id' a partir de 'reason', pero que de todos modos NO tienen correspondencia en cash -> Haremos drop() de esas 4 filas"
   ]
  },
  {
   "cell_type": "markdown",
   "metadata": {},
   "source": [
    "Columnas categóricas cash_request:\n",
    "\n",
    "- status:\n",
    "    >```terminal\n",
    "    >money_back               16397\n",
    "    >rejected                  6568\n",
    "    >direct_debit_rejected      831\n",
    "    >active                      59\n",
    "    >transaction_declined        48\n",
    "    >direct_debit_sent           34\n",
    "    >canceled                    33\n",
    "    >```\n",
    "\n",
    "- transfer_type:\n",
    "    >```terminal\n",
    "    >instant    13882\n",
    "    >regular    10088\n",
    "    >```\n",
    "\n",
    "- recovery_status:\n",
    "    >```terminal\n",
    "    >completed               2468\n",
    "    >pending                  845\n",
    "    >pending_direct_debit      16\n",
    "    >cancelled                  1\n",
    "    ```"
   ]
  },
  {
   "cell_type": "markdown",
   "metadata": {},
   "source": [
    "Columnas categóricas fees:\n",
    "\n",
    "- type:\n",
    "    >```terminal\n",
    "    >instant_payment    11099\n",
    "    >postpone            7766\n",
    "    >incident            2196\n",
    "    >```\n",
    "\n",
    "- status:\n",
    "    >```terminal\n",
    "    >accepted     14841\n",
    "    >cancelled     4938\n",
    "    >rejected      1194\n",
    "    >confirmed       88\n",
    "    >```\n",
    "\n",
    "- category:\n",
    "    >```terminal\n",
    "    >rejected_direct_debit     1599\n",
    "    >month_delay_on_payment     597\n",
    "    >```\n",
    "\n",
    "- reason ¿?:\n",
    "\n",
    "- charge_moment:\n",
    "    >```terminal\n",
    "    >after     16724\n",
    "    >before     4337\n",
    "    >```"
   ]
  },
  {
   "cell_type": "markdown",
   "metadata": {},
   "source": []
  }
 ],
 "metadata": {
  "kernelspec": {
   "display_name": "base",
   "language": "python",
   "name": "python3"
  },
  "language_info": {
   "codemirror_mode": {
    "name": "ipython",
    "version": 3
   },
   "file_extension": ".py",
   "mimetype": "text/x-python",
   "name": "python",
   "nbconvert_exporter": "python",
   "pygments_lexer": "ipython3",
   "version": "3.12.4"
  }
 },
 "nbformat": 4,
 "nbformat_minor": 2
}
