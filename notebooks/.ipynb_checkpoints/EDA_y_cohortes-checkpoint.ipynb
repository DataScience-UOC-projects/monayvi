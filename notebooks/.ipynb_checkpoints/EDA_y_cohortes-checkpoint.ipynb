{
 "cells": [
  {
   "cell_type": "markdown",
   "metadata": {},
   "source": [
    "# Análisis Exploratorio de Datos y Creación de Cohortes"
   ]
  },
  {
   "cell_type": "markdown",
   "metadata": {},
   "source": [
    "##### Setup: cargar librerías necesarias"
   ]
  },
  {
   "cell_type": "code",
   "execution_count": null,
   "metadata": {},
   "outputs": [],
   "source": [
    "# Importing the Warnings library for better presentation\n",
    "import warnings\n",
    "\n",
    "# Importing the NumPy library for numerical operations (as np)\n",
    "import numpy as np\n",
    "# Importing the Pandas library for data manipulation and analysis (as pd)\n",
    "import pandas as pd\n",
    "\n",
    "# Importing the Seaborn library for advanced data visualization (as sns)\n",
    "import seaborn as sns\n",
    "# Importing the Matplotlib library for basic plotting functionalities (as plt)\n",
    "import matplotlib.pyplot as plt\n",
    "\n",
    "from IPython.display import display_html "
   ]
  },
  {
   "cell_type": "markdown",
   "metadata": {},
   "source": [
    "#####  Setup: ajustes de visualización para los gráficos"
   ]
  },
  {
   "cell_type": "code",
   "execution_count": null,
   "metadata": {},
   "outputs": [],
   "source": [
    "warnings.filterwarnings('ignore', category=DeprecationWarning)\n",
    "\n",
    "# Matplotlib inline to visualize Matplotlib graphs\n",
    "%matplotlib inline\n",
    "\n",
    "# Configuration to set so that all the Seaborn figures come out with this size\n",
    "%config Inlinebackend.figure_format= 'retina'\n",
    "\n",
    "warnings.resetwarnings()"
   ]
  },
  {
   "cell_type": "code",
   "execution_count": null,
   "metadata": {},
   "outputs": [],
   "source": [
    "# Set the Seaborn context to \"poster\" for larger text and figures\n",
    "sns.set_context(\"poster\")\n",
    "\n",
    "# Set the default figure size for Seaborn plots\n",
    "sns.set(rc={\"figure.figsize\": (12., 6.)})\n",
    "\n",
    "# Set the Seaborn style to \"whitegrid\" for a white background with gridlines\n",
    "sns.set_style(\"whitegrid\")"
   ]
  },
  {
   "cell_type": "markdown",
   "metadata": {},
   "source": [
    "## Análisis Exploratorio de Datos (EDA)"
   ]
  },
  {
   "cell_type": "markdown",
   "metadata": {},
   "source": [
    "### Carga inicial de datos"
   ]
  },
  {
   "cell_type": "code",
   "execution_count": null,
   "metadata": {},
   "outputs": [],
   "source": [
    "cash_orig = pd.read_csv('../data/cash_request.csv')"
   ]
  },
  {
   "cell_type": "code",
   "execution_count": null,
   "metadata": {},
   "outputs": [],
   "source": [
    "fees_orig = pd.read_csv('../data/fees.csv')"
   ]
  },
  {
   "cell_type": "markdown",
   "metadata": {},
   "source": [
    "### Visión general de datos"
   ]
  },
  {
   "cell_type": "code",
   "execution_count": null,
   "metadata": {},
   "outputs": [],
   "source": [
    "cash_orig.head()"
   ]
  },
  {
   "cell_type": "code",
   "execution_count": null,
   "metadata": {},
   "outputs": [],
   "source": [
    "fees_orig.head()"
   ]
  },
  {
   "cell_type": "code",
   "execution_count": null,
   "metadata": {},
   "outputs": [],
   "source": [
    "cash_orig.shape # 23970 peticiones de cash"
   ]
  },
  {
   "cell_type": "code",
   "execution_count": null,
   "metadata": {},
   "outputs": [],
   "source": [
    "fees_orig.shape # 21061 fees"
   ]
  },
  {
   "cell_type": "code",
   "execution_count": null,
   "metadata": {},
   "outputs": [],
   "source": [
    "# Column names\n",
    "print(f\"Column Names: {cash_orig.columns}\")\n",
    "print(f\"Column Names: {fees_orig.columns}\")"
   ]
  },
  {
   "cell_type": "markdown",
   "metadata": {},
   "source": [
    "### Variables de trabajo"
   ]
  },
  {
   "cell_type": "code",
   "execution_count": null,
   "metadata": {},
   "outputs": [],
   "source": [
    "fees = fees_orig.copy()\n",
    "cash = cash_orig.copy()"
   ]
  },
  {
   "cell_type": "code",
   "execution_count": null,
   "metadata": {},
   "outputs": [],
   "source": [
    "# Renombrar 'id' a 'cash_request_id' para mayor claridad (y para el merge posterior con fees)\n",
    "cash.rename(columns={'id': 'cash_request_id'}, inplace=True)"
   ]
  },
  {
   "cell_type": "code",
   "execution_count": null,
   "metadata": {},
   "outputs": [],
   "source": [
    "#cash = cash[['cash_request_id', 'amount', 'status', 'created_at', 'user_id', 'deleted_account_id']]\n",
    "cash.head()"
   ]
  },
  {
   "cell_type": "markdown",
   "metadata": {},
   "source": [
    "### Unificación de ID de usuario"
   ]
  },
  {
   "cell_type": "code",
   "execution_count": null,
   "metadata": {},
   "outputs": [],
   "source": [
    "# Ver NA en columna 'user_id'\n",
    "cash[cash['user_id'].notna()].nunique() # 21867 válidos\n",
    "cash[cash['user_id'].isna()].nunique() # 2103 Nan\n",
    "# Comprobación: 21867 válidos + 2103 NaN = 23970 filas\n",
    "\n",
    "# Comprobar que 'user_id' y 'deteled_account_id' son complementarios\n",
    "cash[cash['user_id'].isna() & cash['deleted_account_id'].isna()] # Empty dataframe -> Siempre tenemos un valor válido en una de las dos columnas\n",
    "\n",
    "# Comprobar solapamientos\n",
    "cash[cash['user_id'].notna() & cash['deleted_account_id'].notna()] # La fila crid=280 tiene user_id=3161 y a la vez deleted_account_id=262"
   ]
  },
  {
   "cell_type": "code",
   "execution_count": null,
   "metadata": {},
   "outputs": [],
   "source": [
    "# Nueva columna 'id_usuario' a partir de user_id + deleted_account_id\n",
    "cash['id_usuario'] = cash['user_id'].fillna(cash['deleted_account_id'])\n",
    "# Conversión de float a int\n",
    "cash['id_usuario'] = cash['id_usuario'].astype(int)"
   ]
  },
  {
   "cell_type": "markdown",
   "metadata": {},
   "source": [
    "### Tratamiento de fechas"
   ]
  },
  {
   "cell_type": "code",
   "execution_count": null,
   "metadata": {},
   "outputs": [],
   "source": [
    "# Convertir 'created_at' a tipo datetime\n",
    "print(cash['created_at'].dtypes)\n",
    "cash['created_at'] = pd.to_datetime(cash['created_at'])\n",
    "print(cash['created_at'].dtypes)"
   ]
  },
  {
   "cell_type": "markdown",
   "metadata": {},
   "source": [
    "## Creación de Cohortes"
   ]
  },
  {
   "cell_type": "markdown",
   "metadata": {},
   "source": [
    "### Obtener cohortes"
   ]
  },
  {
   "cell_type": "code",
   "execution_count": null,
   "metadata": {},
   "outputs": [],
   "source": [
    "grouped1st = cash.pivot_table(\n",
    "    values = \"created_at\",\n",
    "    index = \"id_usuario\",\n",
    "    aggfunc = \"min\"\n",
    ")\n",
    "warnings.filterwarnings('ignore', category=UserWarning)\n",
    "grouped1st['cohorte'] = grouped1st['created_at'].dt.to_period('M') #UserWarning: Converting to PeriodArray/Index representation will drop timezone information.\n",
    "warnings.resetwarnings()\n",
    "grouped1st.head()"
   ]
  },
  {
   "cell_type": "code",
   "execution_count": null,
   "metadata": {},
   "outputs": [],
   "source": [
    "# Dos maneras de calcular lo mismo:\n",
    "grouped1st.index.shape # (11793,) usuarios distintos\n",
    "grouped1st.value_counts().sum() # 11793 usuarios distintos"
   ]
  },
  {
   "cell_type": "code",
   "execution_count": null,
   "metadata": {},
   "outputs": [],
   "source": [
    "# Calcular valores más legibles para 'cohorte', sobre todo para que a la hora de graficar no se confundan con el eje temporal\n",
    "# NB. Esta necesidad la hemos visto a posteriori...\n",
    "claves = list(np.sort(grouped1st['cohorte'].unique()))\n",
    "claves\n",
    "valores = []\n",
    "for index, value in enumerate(claves):\n",
    "    valores.append(f'COH-{index+1:02}.{value.strftime(\"%b\")}/{str(value.strftime(\"%y\"))}')     \n",
    "valores\n",
    "labels = dict(zip(claves, valores))\n",
    "labels"
   ]
  },
  {
   "cell_type": "code",
   "execution_count": null,
   "metadata": {},
   "outputs": [],
   "source": [
    "# Añadir dato 'cohorte' a tabla de trabajo\n",
    "cash_cohorts = pd.merge(cash, grouped1st[['cohorte']], on='id_usuario')\n",
    "cash_cohorts.head()\n",
    "# Añadir dato 'cohorte_lbl' a tabla de trabajo\n",
    "cash_cohorts['cohorte_lbl'] = cash_cohorts['cohorte'].transform(lambda x: labels[x])\n",
    "cash_cohorts.sample(30)"
   ]
  },
  {
   "cell_type": "code",
   "execution_count": null,
   "metadata": {},
   "outputs": [],
   "source": [
    "# Comprobar que la diferencia es sólo 2 columnas adicionales\n",
    "print(cash.shape)\n",
    "print(cash_cohorts.shape)"
   ]
  },
  {
   "cell_type": "code",
   "execution_count": null,
   "metadata": {},
   "outputs": [],
   "source": [
    "cash_cohorts.info()"
   ]
  },
  {
   "cell_type": "code",
   "execution_count": null,
   "metadata": {},
   "outputs": [],
   "source": [
    "# Convertir cohorte a tipo str para poder agrupar y graficar (el tipo de datos period[M] no lo permite)\n",
    "cash_cohorts['cohorte'] = cash_cohorts['cohorte'].astype(str)\n",
    "cash_cohorts.info()\n"
   ]
  },
  {
   "cell_type": "code",
   "execution_count": null,
   "metadata": {},
   "outputs": [],
   "source": [
    "# Número de usuarios por cohorte\n",
    "users_by_cohort = cash_cohorts.groupby('cohorte_lbl')['id_usuario'].nunique().reset_index()\n",
    "users_by_cohort.rename(columns={'id_usuario': 'num_usuarios'}, inplace=True)\n",
    "print(users_by_cohort)"
   ]
  },
  {
   "cell_type": "code",
   "execution_count": null,
   "metadata": {},
   "outputs": [],
   "source": [
    "# Comprobación\n",
    "print(cash['id_usuario'].nunique())\n",
    "print(users_by_cohort['num_usuarios'].sum()) # 11793 total usuarios"
   ]
  },
  {
   "cell_type": "code",
   "execution_count": null,
   "metadata": {},
   "outputs": [],
   "source": [
    "users_by_cohort.set_index('cohorte_lbl', inplace=True)\n",
    "print(users_by_cohort.index)"
   ]
  },
  {
   "cell_type": "markdown",
   "metadata": {},
   "source": [
    "#### Gráfica"
   ]
  },
  {
   "cell_type": "code",
   "execution_count": null,
   "metadata": {},
   "outputs": [],
   "source": [
    "#warnings.filterwarnings('ignore', category=DeprecationWarning)\n",
    "# Gràfico de barras para visualizar el número de usuarios por cohorte\n",
    "plt.figure(figsize=(10, 6))\n",
    "#users_by_cohort.plot(kind='line', marker='o')\n",
    "users_by_cohort.plot(kind='bar')\n",
    "plt.title('Número de Usuarios por Cohorte')\n",
    "plt.xlabel('Cohorte')\n",
    "plt.ylabel('Usuarios')\n",
    "plt.grid(True)\n",
    "plt.xticks(rotation=25, ha='right', rotation_mode='anchor', fontsize=10)\n",
    "plt.legend([])\n",
    "plt.tight_layout()\n",
    "plt.show()\n",
    "#warnings.resetwarnings()"
   ]
  },
  {
   "cell_type": "markdown",
   "metadata": {},
   "source": [
    "#### CONCLUSIONES:\n",
    "\n",
    "- Se observa un despunte muy significativo en el número de ususarios nuevos en octubre de 2020.\n",
    "\n",
    "- Dicha observación nos genera las siguientes preguntas:\n",
    "\n",
    "    - ¿Se ha realizado alguna actualización en el sistema para facilitar el alta de usuarios nuevos?\n",
    "    - ¿Se ha realizado alguna campaña de márketing para promocionar el servicio?"
   ]
  },
  {
   "cell_type": "markdown",
   "metadata": {},
   "source": []
  }
 ],
 "metadata": {
  "kernelspec": {
   "display_name": "Python 3 (ipykernel)",
   "language": "python",
   "name": "python3"
  },
  "language_info": {
   "codemirror_mode": {
    "name": "ipython",
    "version": 3
   },
   "file_extension": ".py",
   "mimetype": "text/x-python",
   "name": "python",
   "nbconvert_exporter": "python",
   "pygments_lexer": "ipython3",
   "version": "3.10.12"
  }
 },
 "nbformat": 4,
 "nbformat_minor": 4
}
